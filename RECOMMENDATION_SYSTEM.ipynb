{
 "cells": [
  {
   "cell_type": "code",
   "execution_count": 1,
   "id": "fb8a7d91-6c22-4c33-b27c-b81750254d10",
   "metadata": {},
   "outputs": [],
   "source": [
    "import numpy as np                       \n",
    "import pandas as pd                       \n",
    "from sklearn.model_selection import train_test_split  \n",
    "from sklearn.metrics import mean_squared_error        \n",
    "from math import sqrt                      \n",
    "import matplotlib.pyplot as plt            \n",
    "from collections import defaultdict        \n",
    "from sklearn.metrics.pairwise import cosine_similarity  \n"
   ]
  },
  {
   "cell_type": "code",
   "execution_count": 2,
   "id": "a6af0170-959a-41f0-8c98-0ed317093640",
   "metadata": {},
   "outputs": [],
   "source": [
    "np.random.seed(42)                        \n",
    "n_users = 100                              \n",
    "n_items = 50                              \n",
    "density = 0.12                             \n",
    "n_ratings = int(n_users * n_items * density)"
   ]
  },
  {
   "cell_type": "code",
   "execution_count": 3,
   "id": "641d6692-2168-41ea-b1ae-f72e289272c6",
   "metadata": {},
   "outputs": [],
   "source": [
    "user_ids = np.random.choice(range(n_users), size=n_ratings, replace=True)\n",
    "item_ids = np.random.choice(range(n_items), size=n_ratings, replace=True)\n",
    "ratings = np.random.choice([1,2,3,4,5], size=n_ratings, p=[0.05,0.1,0.3,0.35,0.2])\n"
   ]
  },
  {
   "cell_type": "code",
   "execution_count": 4,
   "id": "d56f3d26-dbf5-4aad-91bc-fe929c2043a0",
   "metadata": {},
   "outputs": [],
   "source": [
    "df = pd.DataFrame({'user': user_ids, 'item': item_ids, 'rating': ratings})\n",
    "\n",
    "df = df.drop_duplicates(subset=['user','item']).reset_index(drop=True)\n"
   ]
  },
  {
   "cell_type": "code",
   "execution_count": 7,
   "id": "064e6d81-0ec9-4a8b-8821-dff8d821292a",
   "metadata": {},
   "outputs": [
    {
     "name": "stdout",
     "output_type": "stream",
     "text": [
      "Dataset snapshot (first 10 rows):\n",
      "   user  item  rating\n",
      "0    70    32       3\n",
      "1    25     9       4\n",
      "2     0     4       2\n",
      "3    86    24       3\n",
      "4    86    35       5\n",
      "5    68    22       2\n",
      "6    68    16       4\n",
      "7    73    32       5\n",
      "8    89    29       5\n",
      "9    19    23       3\n"
     ]
    }
   ],
   "source": [
    "for u in range(n_users):\n",
    "    if (df['user'] == u).sum() < 3:\n",
    "        missing = 3 - (df['user'] == u).sum()\n",
    "        choices = np.random.choice(\n",
    "            [i for i in range(n_items) if not ((df['user'] == u) & (df['item'] == i)).any()],\n",
    "            size=missing, replace=False\n",
    "        )\n",
    "        df = pd.concat(\n",
    "            [df, pd.DataFrame([{'user': u, 'item': it, 'rating': np.random.choice([3,4,5])}])],\n",
    "            ignore_index=True\n",
    ")\n",
    "\n",
    "df = df.sample(frac=1, random_state=1).reset_index(drop=True)\n",
    "\n",
    "print(\"Dataset snapshot (first 10 rows):\")\n",
    "print(df.head(10))"
   ]
  },
  {
   "cell_type": "code",
   "execution_count": 8,
   "id": "7becbe53-ebe2-4f6d-be8f-8dd1c38ee4da",
   "metadata": {},
   "outputs": [],
   "source": [
    "train_list = []                            \n",
    "test_list = []                            \n",
    "\n",
    "for u, group in df.groupby('user'):\n",
    "    if len(group) <= 2:\n",
    "        train_list.append(group)           \n",
    "        continue\n",
    "    tr, te = train_test_split(group, test_size=0.2, random_state=42)  \n",
    "    train_list.append(tr)                 \n",
    "    test_list.append(te)                \n"
   ]
  },
  {
   "cell_type": "code",
   "execution_count": 9,
   "id": "dc98e561-2bfe-4962-bd19-c5c773234d10",
   "metadata": {},
   "outputs": [
    {
     "name": "stdout",
     "output_type": "stream",
     "text": [
      "Total ratings: 577, Train: 429, Test: 148\n"
     ]
    }
   ],
   "source": [
    "train_df = pd.concat(train_list).reset_index(drop=True)\n",
    "test_df = pd.concat(test_list).reset_index(drop=True)\n",
    "\n",
    "# print dataset sizes\n",
    "print(f\"Total ratings: {len(df)}, Train: {len(train_df)}, Test: {len(test_df)}\")"
   ]
  },
  {
   "cell_type": "code",
   "execution_count": 10,
   "id": "18b495dc-b837-44de-8114-e18880a484b8",
   "metadata": {},
   "outputs": [],
   "source": [
    "class MF:\n",
    "    def __init__(self, n_users, n_items, n_factors=20, lr=0.01, reg=0.02, n_epochs=30):\n",
    "        self.n_users = n_users           \n",
    "        self.n_items = n_items            \n",
    "        self.n_factors = n_factors       \n",
    "        self.lr = lr                     \n",
    "        self.reg = reg                    \n",
    "        self.n_epochs = n_epochs          \n",
    "\n",
    "    def fit(self, train_df, verbose=True):\n",
    "        self.mu = train_df['rating'].mean()\n",
    "        self.bu = np.zeros(self.n_users)\n",
    "        self.bi = np.zeros(self.n_items)\n",
    "        self.P = np.random.normal(scale=0.1, size=(self.n_users, self.n_factors))\n",
    "        self.Q = np.random.normal(scale=0.1, size=(self.n_items, self.n_factors))\n",
    "\n",
    "        rows = train_df[['user','item','rating']].values.astype(float)\n",
    "        self.train_history = []          \n",
    "\n",
    "        for epoch in range(self.n_epochs):\n",
    "            np.random.shuffle(rows)       \n",
    "            for u,i,r in rows:\n",
    "                u = int(u); i = int(i)\n",
    "                r = float(r)\n",
    "                pred = self.predict_single(u,i)\n",
    "                e = (r - pred)           \n",
    "                self.bu[u] += self.lr * (e - self.reg * self.bu[u])\n",
    "                self.bi[i] += self.lr * (e - self.reg * self.bi[i])\n",
    "                pu = self.P[u].copy()\n",
    "                qi = self.Q[i].copy()\n",
    "                self.P[u] += self.lr * (e * qi - self.reg * pu)\n",
    "                self.Q[i] += self.lr * (e * pu - self.reg * qi)\n",
    "\n",
    "            preds = [self.predict_single(int(u), int(i)) for u,i,_ in rows]\n",
    "            rmse = sqrt(mean_squared_error(rows[:,2].astype(float), preds))\n",
    "            self.train_history.append(rmse)\n",
    "            if verbose and (epoch % 5 == 0 or epoch == self.n_epochs - 1):\n",
    "                print(f\"Epoch {epoch+1}/{self.n_epochs} - Train RMSE: {rmse:.4f}\")\n",
    "\n",
    "        return self\n",
    "\n",
    "    def predict_single(self, u, i):\n",
    "        pred = self.mu + self.bu[u] + self.bi[i] + self.P[u].dot(self.Q[i])\n",
    "        return min(5.0, max(1.0, pred))\n",
    "\n",
    "    def predict_all_for_user(self, u):\n",
    "        preds = self.mu + self.bu[u] + self.bi + self.P[u].dot(self.Q.T)\n",
    "        preds = np.clip(preds, 1.0, 5.0)\n",
    "        return preds\n"
   ]
  },
  {
   "cell_type": "code",
   "execution_count": 11,
   "id": "7b5f5a31-1a04-49a4-8b23-491298f6d8f8",
   "metadata": {},
   "outputs": [
    {
     "name": "stdout",
     "output_type": "stream",
     "text": [
      "Epoch 1/30 - Train RMSE: 1.0615\n",
      "Epoch 6/30 - Train RMSE: 0.9838\n",
      "Epoch 11/30 - Train RMSE: 0.9334\n",
      "Epoch 16/30 - Train RMSE: 0.8923\n",
      "Epoch 21/30 - Train RMSE: 0.8527\n",
      "Epoch 26/30 - Train RMSE: 0.8103\n",
      "Epoch 30/30 - Train RMSE: 0.7728\n"
     ]
    },
    {
     "data": {
      "image/png": "[encoded data removed]",
      "text/plain": [
       "<Figure size 600x300 with 1 Axes>"
      ]
     },
     "metadata": {},
     "output_type": "display_data"
    }
   ],
   "source": [
    "n_factors = 20\n",
    "mf = MF(n_users=n_users, n_items=n_items, n_factors=n_factors, lr=0.01, reg=0.05, n_epochs=30)\n",
    "\n",
    "mf.fit(train_df, verbose=True)\n",
    "\n",
    "plt.figure(figsize=(6,3))\n",
    "plt.plot(mf.train_history)\n",
    "plt.xlabel(\"Epoch\")\n",
    "plt.ylabel(\"Train RMSE\")\n",
    "plt.title(\"MF training RMSE history\")\n",
    "plt.grid(True)\n",
    "plt.show()\n"
   ]
  },
  {
   "cell_type": "code",
   "execution_count": 12,
   "id": "580c75a9-f466-47cb-8dee-d88a7c5191c7",
   "metadata": {},
   "outputs": [
    {
     "name": "stdout",
     "output_type": "stream",
     "text": [
      "Matrix Factorization Test RMSE: 1.1296\n"
     ]
    }
   ],
   "source": [
    "def evaluate_rmse(model, test_df):\n",
    "    preds = []\n",
    "    truths = []\n",
    "    for _, row in test_df.iterrows():\n",
    "        u = int(row['user']); i = int(row['item'])\n",
    "        preds.append(model.predict_single(u,i))\n",
    "        truths.append(row['rating'])\n",
    "    rmse = sqrt(mean_squared_error(truths, preds))\n",
    "    return rmse\n",
    "\n",
    "mf_rmse = evaluate_rmse(mf, test_df)\n",
    "print(f\"Matrix Factorization Test RMSE: {mf_rmse:.4f}\")"
   ]
  },
  {
   "cell_type": "code",
   "execution_count": 13,
   "id": "17c004b5-98f9-4f18-98ec-606ec0dcadf5",
   "metadata": {},
   "outputs": [],
   "source": [
    "utility = np.zeros((n_users, n_items))    \n",
    "for _, row in train_df.iterrows():\n",
    "    utility[int(row['user']), int(row['item'])] = row['rating']\n",
    "\n",
    "item_sim = cosine_similarity(utility.T)    \n",
    "\n",
    "def item_based_predict(u, i, k=10):\n",
    "    user_ratings = utility[u]              \n",
    "    sims = item_sim[i]                      \n",
    "    rated_idx = np.where(user_ratings > 0)[0]  \n",
    "    if len(rated_idx) == 0:\n",
    "        global_mean = utility[utility > 0].mean() if (utility > 0).any() else 3.0\n",
    "        return float(global_mean)\n",
    "    sim_scores = sims[rated_idx]\n",
    "    if len(sim_scores) <= k:\n",
    "        topk_idx = np.argsort(sim_scores)\n",
    "    else:\n",
    "        topk_idx = np.argsort(sim_scores)[-k:]\n",
    "    chosen_idx = rated_idx[topk_idx]        \n",
    "    numer = np.dot(sim_scores[topk_idx], user_ratings[chosen_idx])  \n",
    "    denom = np.sum(np.abs(sim_scores[topk_idx])) + 1e-8           \n",
    "    pred = numer / denom if denom != 0 else user_ratings[user_ratings > 0].mean()\n",
    "    return float(min(5.0, max(1.0, pred)))\n"
   ]
  },
  {
   "cell_type": "code",
   "execution_count": 14,
   "id": "4ff4dcdd-a198-4ac4-9bc2-7318fda35511",
   "metadata": {},
   "outputs": [
    {
     "name": "stdout",
     "output_type": "stream",
     "text": [
      "Item-based CF Test RMSE: 1.5235\n"
     ]
    }
   ],
   "source": [
    "ibs_preds = []\n",
    "ibs_truths = []\n",
    "for _, row in test_df.iterrows():\n",
    "    u = int(row['user']); i = int(row['item'])\n",
    "    ibs_preds.append(item_based_predict(u, i, k=10))\n",
    "    ibs_truths.append(row['rating'])\n",
    "item_rmse = sqrt(mean_squared_error(ibs_truths, ibs_preds))\n",
    "print(f\"Item-based CF Test RMSE: {item_rmse:.4f}\")"
   ]
  },
  {
   "cell_type": "code",
   "execution_count": 15,
   "id": "09070ba8-3024-45c8-b29e-701803b9f794",
   "metadata": {},
   "outputs": [],
   "source": [
    "ground_truth = defaultdict(set)\n",
    "for _, row in test_df.iterrows():\n",
    "    if row['rating'] >= 4:\n",
    "        ground_truth[int(row['user'])].add(int(row['item']))"
   ]
  },
  {
   "cell_type": "code",
   "execution_count": 16,
   "id": "d0cd10ad-01a3-4b86-b971-29b0eed598c9",
   "metadata": {},
   "outputs": [],
   "source": [
    "train_user_items = defaultdict(set)\n",
    "for _, row in train_df.iterrows():\n",
    "    train_user_items[int(row['user'])].add(int(row['item']))"
   ]
  },
  {
   "cell_type": "code",
   "execution_count": 17,
   "id": "410b7c85-a42d-4e7e-8206-e12abbc4ee03",
   "metadata": {},
   "outputs": [],
   "source": [
    "def get_top_k_mf(model, user, k=10):\n",
    "    preds = model.predict_all_for_user(user)        \n",
    "    seen = train_user_items[user]                   \n",
    "    candidate_idx = [i for i in range(len(preds)) if i not in seen] \n",
    "    candidate_scores = preds[candidate_idx]\n",
    "    top_idx_rel = np.argsort(candidate_scores)[-k:][::-1]\n",
    "    top_items = [candidate_idx[i] for i in top_idx_rel]\n",
    "    return top_items"
   ]
  },
  {
   "cell_type": "code",
   "execution_count": 18,
   "id": "2076b079-2549-41d4-8fa7-79c0fa914e74",
   "metadata": {},
   "outputs": [],
   "source": [
    "def precision_recall_at_k(recommender_fn, K=10):\n",
    "    precisions = []\n",
    "    recalls = []\n",
    "    for u in range(n_users):\n",
    "        true_set = ground_truth.get(u, set())        \n",
    "        if len(true_set) == 0:\n",
    "            continue\n",
    "        recommended = recommender_fn(u, k=K)        \n",
    "        recommended_set = set(recommended)\n",
    "        tp = len(recommended_set & true_set)          \n",
    "        precisions.append(tp / K)\n",
    "        recalls.append(tp / len(true_set))\n",
    "    avg_prec = np.mean(precisions) if precisions else 0.0\n",
    "    avg_rec = np.mean(recalls) if recalls else 0.0\n",
    "    return avg_prec, avg_rec\n"
   ]
  },
  {
   "cell_type": "code",
   "execution_count": 20,
   "id": "399df718-785f-46d5-93fb-8a19728a980c",
   "metadata": {},
   "outputs": [],
   "source": [
    "def mf_recommender_fn(u, k=10):\n",
    "    return get_top_k_mf(mf, u, k=k)\n"
   ]
  },
  {
   "cell_type": "code",
   "execution_count": 21,
   "id": "3449b77d-d621-413c-b923-df321901a4f5",
   "metadata": {},
   "outputs": [
    {
     "name": "stdout",
     "output_type": "stream",
     "text": [
      "MF Precision@10: 0.0268, Recall@10: 0.2136\n"
     ]
    }
   ],
   "source": [
    "K = 10\n",
    "mf_prec, mf_rec = precision_recall_at_k(mf_recommender_fn, K)\n",
    "print(f\"MF Precision@{K}: {mf_prec:.4f}, Recall@{K}: {mf_rec:.4f}\")"
   ]
  },
  {
   "cell_type": "code",
   "execution_count": 22,
   "id": "ff9ec698-8194-47ff-89bd-9fa9bed10ae3",
   "metadata": {},
   "outputs": [
    {
     "name": "stdout",
     "output_type": "stream",
     "text": [
      "\n",
      "User 0 | MF Top-10 recommendations: [10, 14, 15, 26, 12, 36, 21, 32, 35, 45]\n",
      " (item, predicted_rating): [(10, np.float64(4.009238994694902)), (14, np.float64(3.869764183824386)), (15, np.float64(3.845705478049993)), (26, np.float64(3.784807003468829)), (12, np.float64(3.782469015135419)), (36, np.float64(3.729916628897447)), (21, np.float64(3.7012616775710705)), (32, np.float64(3.7002986832340437)), (35, np.float64(3.6931111773498726)), (45, np.float64(3.6847755461236114))]\n",
      "\n",
      "User 1 | MF Top-10 recommendations: [31, 10, 14, 45, 36, 15, 32, 18, 2, 7]\n",
      " (item, predicted_rating): [(31, np.float64(4.224152789654298)), (10, np.float64(4.214768420256947)), (14, np.float64(4.057014648855423)), (45, np.float64(3.9850496157592583)), (36, np.float64(3.974753895834386)), (15, np.float64(3.965936413234074)), (32, np.float64(3.9423462916228282)), (18, np.float64(3.940920235461974)), (2, np.float64(3.878336719648141)), (7, np.float64(3.8173724430494786))]\n",
      "\n",
      "User 2 | MF Top-10 recommendations: [31, 14, 10, 45, 15, 26, 2, 12, 32, 18]\n",
      " (item, predicted_rating): [(31, np.float64(4.6860901570934255)), (14, np.float64(4.640989513931246)), (10, np.float64(4.614315054609538)), (45, np.float64(4.505469191832354)), (15, np.float64(4.488070460839457)), (26, np.float64(4.453018524452388)), (2, np.float64(4.445962956514285)), (12, np.float64(4.444330278925908)), (32, np.float64(4.417234520406205)), (18, np.float64(4.387311335986769))]\n",
      "\n",
      "User 3 | MF Top-10 recommendations: [31, 10, 26, 14, 15, 45, 1, 12, 2, 7]\n",
      " (item, predicted_rating): [(31, np.float64(4.596192426907199)), (10, np.float64(4.447855896713048)), (26, np.float64(4.311934365086911)), (14, np.float64(4.2919503093463005)), (15, np.float64(4.268267277914506)), (45, np.float64(4.241065085879337)), (1, np.float64(4.168637754701173)), (12, np.float64(4.1600446916240585)), (2, np.float64(4.142479997527535)), (7, np.float64(4.126457772453946))]\n",
      "\n",
      "User 4 | MF Top-10 recommendations: [31, 14, 26, 36, 15, 45, 2, 18, 12, 7]\n",
      " (item, predicted_rating): [(31, np.float64(4.212427395046417)), (14, np.float64(3.9056693196326893)), (26, np.float64(3.885919513967451)), (36, np.float64(3.8721900483645912)), (15, np.float64(3.8617910192141602)), (45, np.float64(3.812417430575903)), (2, np.float64(3.810620684410957)), (18, np.float64(3.7665835207580343)), (12, np.float64(3.7526799041870893)), (7, np.float64(3.729733206017959))]\n"
     ]
    }
   ],
   "source": [
    "def show_recommendations_for_users(users, k=10):\n",
    "    for u in users:\n",
    "        top_mf = get_top_k_mf(mf, u, k=k)\n",
    "        print(f\"\\nUser {u} | MF Top-{k} recommendations: {top_mf}\")\n",
    "        preds = [(i, mf.predict_single(u, i)) for i in top_mf]\n",
    "        print(\" (item, predicted_rating):\", preds)\n",
    "\n",
    "show_recommendations_for_users(list(range(5)), k=10)"
   ]
  },
  {
   "cell_type": "code",
   "execution_count": null,
   "id": "5e92023b-d639-404b-b2c2-c261bb177ff5",
   "metadata": {},
   "outputs": [],
   "source": []
  }
 ],
 "metadata": {
  "kernelspec": {
   "display_name": "Python 3 (ipykernel)",
   "language": "python",
   "name": "python3"
  },
  "language_info": {
   "codemirror_mode": {
    "name": "ipython",
    "version": 3
   },
   "file_extension": ".py",
   "mimetype": "text/x-python",
   "name": "python",
   "nbconvert_exporter": "python",
   "pygments_lexer": "ipython3",
   "version": "3.13.5"
  }
 },
 "nbformat": 4,
 "nbformat_minor": 5
}
